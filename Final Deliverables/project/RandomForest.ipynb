{
 "cells": [
  {
   "cell_type": "code",
   "execution_count": null,
   "metadata": {},
   "outputs": [],
   "source": [
    "import warnings\n",
    "warnings.filterwarnings('ignore')\n",
    "import numpy as np \n",
    "import pandas as pd \n",
    "from sklearn.preprocessing import StandardScaler\n",
    "from sklearn.model_selection import train_test_split, cross_val_score\n",
    "from sklearn.ensemble import RandomForestRegressor\n",
    "# import pickle\n",
    "from sklearn.metrics import mean_absolute_error\n",
    "import os"
   ]
  },
  {
   "cell_type": "code",
   "execution_count": null,
   "metadata": {},
   "outputs": [],
   "source": [
    "data = pd.read_csv(os.getcwd()+'/cardekho_updated.csv')"
   ]
  },
  {
   "cell_type": "code",
   "execution_count": null,
   "metadata": {},
   "outputs": [],
   "source": [
    "data.head()"
   ]
  },
  {
   "cell_type": "code",
   "execution_count": null,
   "metadata": {},
   "outputs": [],
   "source": [
    "data.isnull().sum()"
   ]
  },
  {
   "cell_type": "code",
   "execution_count": null,
   "metadata": {},
   "outputs": [],
   "source": [
    "for i in range(data.shape[0]):\n",
    "    try:\n",
    "        price = float(data['selling_price'][i].split(' ')[0])\n",
    "        digit = data['selling_price'][i].split(' ')[1]\n",
    "        if digit == 'Lakh*':\n",
    "            price = price * 100000\n",
    "            data['selling_price'][i] = price\n",
    "        elif digit == 'Cr*':\n",
    "            price = price * 10000000\n",
    "            data['selling_price'][i] = price\n",
    "    except:\n",
    "        price = data['selling_price'][i][:-1]\n",
    "        price = price.replace(',', '')\n",
    "        data['selling_price'][i] = float(price)"
   ]
  },
  {
   "cell_type": "code",
   "execution_count": null,
   "metadata": {},
   "outputs": [],
   "source": [
    "data['km_driven'] = data['km_driven'].str.split(' ', n=1, expand=True)[0]\n",
    "data['km_driven'] = data['km_driven'].str.replace(',','')\n",
    "data['mileage'] = data['mileage'].str.split(' ', expand=True)[0].str.split('e', expand=True)[2]\n",
    "data['engine'] = data['engine'].str.split(' ', expand=True)[0].str.split('e',expand=True)[1]\n",
    "data['max_power'] = data['max_power'].str.split(' ', expand=True)[1].str.split('r',expand=True)[1]\n",
    "data['seats'] = data['seats'].str.split('s', expand=True)[1]"
   ]
  },
  {
   "cell_type": "code",
   "execution_count": null,
   "metadata": {},
   "outputs": [],
   "source": [
    "cols = ['selling_price', 'km_driven', 'mileage', 'engine', 'max_power', 'seats']\n",
    "\n",
    "for col in cols:\n",
    "    try:\n",
    "        data[col] = data[col].astype(int)\n",
    "    except:\n",
    "        data[col] = data[col].astype(float)"
   ]
  },
  {
   "cell_type": "code",
   "execution_count": null,
   "metadata": {},
   "outputs": [],
   "source": [
    "data['company'] = data['full_name'].str.split(' ', expand=True)[0]"
   ]
  },
  {
   "cell_type": "code",
   "execution_count": null,
   "metadata": {},
   "outputs": [],
   "source": [
    "data.drop(columns=['new_price','full_name','owner_type'], axis=1, inplace=True)\n",
    "data.head()"
   ]
  },
  {
   "cell_type": "code",
   "execution_count": null,
   "metadata": {},
   "outputs": [],
   "source": [
    "for i in ['mileage', 'engine', 'max_power', 'seats']:\n",
    "    company_name = data[data[i].isnull()]['company'].value_counts().index[0]\n",
    "    if data[i].nunique()>10:\n",
    "        values = data[data['company']==company_name][i].mean()\n",
    "    else:\n",
    "        values = data[data['company']==company_name][i].median()\n",
    "        \n",
    "    data[i].fillna(values, inplace=True)"
   ]
  },
  {
   "cell_type": "code",
   "execution_count": null,
   "metadata": {},
   "outputs": [],
   "source": [
    "data = data[data['selling_price'] < 20000000]\n",
    "data = data[data['km_driven'] < 1000000]\n",
    "data = data[data['mileage'] < 100]\n",
    "data = data[data['engine'] < 6100]\n",
    "data = data[data['max_power'] < 530]\n",
    "data = data.reset_index(drop=True)"
   ]
  },
  {
   "cell_type": "code",
   "execution_count": null,
   "metadata": {},
   "outputs": [],
   "source": [
    "company_name = data.company.value_counts().index[:15]\n",
    "for i in range(data.shape[0]):\n",
    "    if data['company'][i] in company_name:\n",
    "         continue\n",
    "    else:\n",
    "        data['company'][i] = 'others'"
   ]
  },
  {
   "cell_type": "code",
   "execution_count": null,
   "metadata": {},
   "outputs": [],
   "source": [
    "# data.to_csv(\"before.csv\")"
   ]
  },
  {
   "cell_type": "code",
   "execution_count": null,
   "metadata": {},
   "outputs": [],
   "source": [
    "data = pd.get_dummies(data=data, columns=['seller_type','fuel_type','transmission_type','company'], drop_first=True)\n",
    "data.shape"
   ]
  },
  {
   "cell_type": "code",
   "execution_count": null,
   "metadata": {},
   "outputs": [],
   "source": [
    "x = data.iloc[:,1:]\n",
    "y = data['selling_price']\n",
    "xtrain, xtest, ytrain, ytest = train_test_split(x,y,test_size=0.10,random_state=25)\n",
    "print(xtrain.shape,xtest.shape)"
   ]
  },
  {
   "cell_type": "code",
   "execution_count": null,
   "metadata": {},
   "outputs": [],
   "source": [
    "# pd.concat([xtrain, xtest]).to_csv(\"after.csv\")"
   ]
  },
  {
   "cell_type": "code",
   "execution_count": null,
   "metadata": {},
   "outputs": [],
   "source": [
    "def do_prediction(classifier):\n",
    "    classifier.fit(xtrain, ytrain)\n",
    "    prediction = classifier.predict(xtest)\n",
    "    cross_validation_score = cross_val(xtrain, ytrain, classifier)\n",
    "    error = mean_absolute_error(ytest, prediction)\n",
    "    return error, cross_validation_score\n",
    "\n",
    "def cross_val(xtrain, ytrain, classifier):\n",
    "    accuracies = cross_val_score(estimator = classifier, X = xtrain, y = ytrain, cv = 5)\n",
    "    return accuracies.mean()"
   ]
  },
  {
   "cell_type": "code",
   "execution_count": null,
   "metadata": {},
   "outputs": [],
   "source": [
    "model = RandomForestRegressor()\n",
    "error, score = do_prediction(model)\n",
    "\n",
    "print('Random Forest Regressor MAE: {}'.format(round(error,2)))\n",
    "print('Cross validation score: {}'.format(round(score,2)))"
   ]
  },
  {
   "cell_type": "code",
   "execution_count": null,
   "metadata": {},
   "outputs": [],
   "source": [
    "# pickle.dump(model, open('reg_model.pkl', 'wb'))"
   ]
  }
 ],
 "metadata": {
  "kernelspec": {
   "display_name": "Python 3.10.4 ('env': venv)",
   "language": "python",
   "name": "python3"
  },
  "language_info": {
   "codemirror_mode": {
    "name": "ipython",
    "version": 3
   },
   "file_extension": ".py",
   "mimetype": "text/x-python",
   "name": "python",
   "nbconvert_exporter": "python",
   "pygments_lexer": "ipython3",
   "version": "3.10.4"
  },
  "orig_nbformat": 4,
  "vscode": {
   "interpreter": {
    "hash": "7a8a616bffd78d3dcdf0f4ea08a7c34704f33e1537e8c9a9188ffe17f7c6170d"
   }
  }
 },
 "nbformat": 4,
 "nbformat_minor": 2
}
